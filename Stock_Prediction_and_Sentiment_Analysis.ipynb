{
  "nbformat": 4,
  "nbformat_minor": 0,
  "metadata": {
    "colab": {
      "name": "Stock_Prediction-and-Sentiment_Analysis.ipynb",
      "provenance": [],
      "collapsed_sections": []
    },
    "kernelspec": {
      "name": "python3",
      "display_name": "Python 3"
    },
    "language_info": {
      "name": "python"
    },
    "accelerator": "GPU"
  },
  "cells": [
    {
      "cell_type": "markdown",
      "metadata": {
        "id": "OnAdVguFprO_"
      },
      "source": [
        "## Gathering Yahoo Finance Dataset "
      ]
    },
    {
      "cell_type": "code",
      "metadata": {
        "colab": {
          "base_uri": "https://localhost:8080/"
        },
        "id": "CUJOhZyipkfX",
        "outputId": "fc0c7689-d23d-4935-e375-b2330527b0de"
      },
      "source": [
        "!pip install yfinance"
      ],
      "execution_count": null,
      "outputs": [
        {
          "output_type": "stream",
          "text": [
            "Requirement already satisfied: yfinance in /usr/local/lib/python3.7/dist-packages (0.1.63)\n",
            "Requirement already satisfied: numpy>=1.15 in /usr/local/lib/python3.7/dist-packages (from yfinance) (1.19.5)\n",
            "Requirement already satisfied: multitasking>=0.0.7 in /usr/local/lib/python3.7/dist-packages (from yfinance) (0.0.9)\n",
            "Requirement already satisfied: pandas>=0.24 in /usr/local/lib/python3.7/dist-packages (from yfinance) (1.1.5)\n",
            "Requirement already satisfied: lxml>=4.5.1 in /usr/local/lib/python3.7/dist-packages (from yfinance) (4.6.3)\n",
            "Requirement already satisfied: requests>=2.20 in /usr/local/lib/python3.7/dist-packages (from yfinance) (2.23.0)\n",
            "Requirement already satisfied: pytz>=2017.2 in /usr/local/lib/python3.7/dist-packages (from pandas>=0.24->yfinance) (2018.9)\n",
            "Requirement already satisfied: python-dateutil>=2.7.3 in /usr/local/lib/python3.7/dist-packages (from pandas>=0.24->yfinance) (2.8.1)\n",
            "Requirement already satisfied: six>=1.5 in /usr/local/lib/python3.7/dist-packages (from python-dateutil>=2.7.3->pandas>=0.24->yfinance) (1.15.0)\n",
            "Requirement already satisfied: chardet<4,>=3.0.2 in /usr/local/lib/python3.7/dist-packages (from requests>=2.20->yfinance) (3.0.4)\n",
            "Requirement already satisfied: idna<3,>=2.5 in /usr/local/lib/python3.7/dist-packages (from requests>=2.20->yfinance) (2.10)\n",
            "Requirement already satisfied: certifi>=2017.4.17 in /usr/local/lib/python3.7/dist-packages (from requests>=2.20->yfinance) (2021.5.30)\n",
            "Requirement already satisfied: urllib3!=1.25.0,!=1.25.1,<1.26,>=1.21.1 in /usr/local/lib/python3.7/dist-packages (from requests>=2.20->yfinance) (1.24.3)\n"
          ],
          "name": "stdout"
        }
      ]
    },
    {
      "cell_type": "markdown",
      "metadata": {
        "id": "uxPmrIr3pzQD"
      },
      "source": [
        "## Importing necessary modules"
      ]
    },
    {
      "cell_type": "code",
      "metadata": {
        "id": "emGXSdA7Tt0P"
      },
      "source": [
        "import numpy as np\n",
        "import pandas as pd\n",
        "import matplotlib.pyplot as plt\n",
        "import math\n",
        "\n",
        "from keras.models import Sequential\n",
        "from keras.layers import Dense, LSTM\n",
        "\n",
        "import warnings\n",
        "warnings.filterwarnings('ignore')"
      ],
      "execution_count": null,
      "outputs": []
    },
    {
      "cell_type": "markdown",
      "metadata": {
        "id": "vMZHVIt7p6yP"
      },
      "source": [
        "## Obtaining Historical Data of \"S&P BSE SENSEX\" Stock "
      ]
    },
    {
      "cell_type": "code",
      "metadata": {
        "colab": {
          "base_uri": "https://localhost:8080/"
        },
        "id": "04F7avg1cUyk",
        "outputId": "325080f0-7ea2-4804-9c7c-8cbfe63f8ea0"
      },
      "source": [
        "from pandas_datareader import data as pdr\n",
        "import yfinance as yf\n",
        "\n",
        "yf.pdr_override()\n",
        "\n",
        "df = pdr.get_data_yahoo(\"%5EBSESN\", start=\"2011-01-01\", end=\"2021-08-03\")"
      ],
      "execution_count": null,
      "outputs": [
        {
          "output_type": "stream",
          "text": [
            "\r[*********************100%***********************]  1 of 1 completed\n"
          ],
          "name": "stdout"
        }
      ]
    },
    {
      "cell_type": "code",
      "metadata": {
        "colab": {
          "base_uri": "https://localhost:8080/",
          "height": 234
        },
        "id": "TsL1HENDdHv_",
        "outputId": "9de32ded-e8dd-4ccb-99be-3edb9c20f6ea"
      },
      "source": [
        "df.head()"
      ],
      "execution_count": null,
      "outputs": [
        {
          "output_type": "execute_result",
          "data": {
            "text/html": [
              "<div>\n",
              "<style scoped>\n",
              "    .dataframe tbody tr th:only-of-type {\n",
              "        vertical-align: middle;\n",
              "    }\n",
              "\n",
              "    .dataframe tbody tr th {\n",
              "        vertical-align: top;\n",
              "    }\n",
              "\n",
              "    .dataframe thead th {\n",
              "        text-align: right;\n",
              "    }\n",
              "</style>\n",
              "<table border=\"1\" class=\"dataframe\">\n",
              "  <thead>\n",
              "    <tr style=\"text-align: right;\">\n",
              "      <th></th>\n",
              "      <th>Open</th>\n",
              "      <th>High</th>\n",
              "      <th>Low</th>\n",
              "      <th>Close</th>\n",
              "      <th>Adj Close</th>\n",
              "      <th>Volume</th>\n",
              "    </tr>\n",
              "    <tr>\n",
              "      <th>Date</th>\n",
              "      <th></th>\n",
              "      <th></th>\n",
              "      <th></th>\n",
              "      <th></th>\n",
              "      <th></th>\n",
              "      <th></th>\n",
              "    </tr>\n",
              "  </thead>\n",
              "  <tbody>\n",
              "    <tr>\n",
              "      <th>2011-01-03</th>\n",
              "      <td>20621.609375</td>\n",
              "      <td>20664.800781</td>\n",
              "      <td>20531.000000</td>\n",
              "      <td>20561.050781</td>\n",
              "      <td>20561.050781</td>\n",
              "      <td>12000</td>\n",
              "    </tr>\n",
              "    <tr>\n",
              "      <th>2011-01-04</th>\n",
              "      <td>20617.380859</td>\n",
              "      <td>20651.210938</td>\n",
              "      <td>20449.009766</td>\n",
              "      <td>20498.720703</td>\n",
              "      <td>20498.720703</td>\n",
              "      <td>15200</td>\n",
              "    </tr>\n",
              "    <tr>\n",
              "      <th>2011-01-05</th>\n",
              "      <td>20509.949219</td>\n",
              "      <td>20509.949219</td>\n",
              "      <td>20243.949219</td>\n",
              "      <td>20301.099609</td>\n",
              "      <td>20301.099609</td>\n",
              "      <td>14400</td>\n",
              "    </tr>\n",
              "    <tr>\n",
              "      <th>2011-01-06</th>\n",
              "      <td>20395.500000</td>\n",
              "      <td>20425.849609</td>\n",
              "      <td>20107.169922</td>\n",
              "      <td>20184.740234</td>\n",
              "      <td>20184.740234</td>\n",
              "      <td>16600</td>\n",
              "    </tr>\n",
              "    <tr>\n",
              "      <th>2011-01-07</th>\n",
              "      <td>20163.849609</td>\n",
              "      <td>20210.619141</td>\n",
              "      <td>19629.220703</td>\n",
              "      <td>19691.810547</td>\n",
              "      <td>19691.810547</td>\n",
              "      <td>15800</td>\n",
              "    </tr>\n",
              "  </tbody>\n",
              "</table>\n",
              "</div>"
            ],
            "text/plain": [
              "                    Open          High  ...     Adj Close  Volume\n",
              "Date                                    ...                      \n",
              "2011-01-03  20621.609375  20664.800781  ...  20561.050781   12000\n",
              "2011-01-04  20617.380859  20651.210938  ...  20498.720703   15200\n",
              "2011-01-05  20509.949219  20509.949219  ...  20301.099609   14400\n",
              "2011-01-06  20395.500000  20425.849609  ...  20184.740234   16600\n",
              "2011-01-07  20163.849609  20210.619141  ...  19691.810547   15800\n",
              "\n",
              "[5 rows x 6 columns]"
            ]
          },
          "metadata": {
            "tags": []
          },
          "execution_count": 14
        }
      ]
    },
    {
      "cell_type": "code",
      "metadata": {
        "colab": {
          "base_uri": "https://localhost:8080/"
        },
        "id": "YBq5dGW7dJ1p",
        "outputId": "cb7edab4-aed3-4147-9a4b-45a4531554c1"
      },
      "source": [
        "df.shape"
      ],
      "execution_count": null,
      "outputs": [
        {
          "output_type": "execute_result",
          "data": {
            "text/plain": [
              "(2593, 6)"
            ]
          },
          "metadata": {
            "tags": []
          },
          "execution_count": 15
        }
      ]
    },
    {
      "cell_type": "markdown",
      "metadata": {
        "id": "7dt1rmJNqLHa"
      },
      "source": [
        "## Data Visualization\n"
      ]
    },
    {
      "cell_type": "code",
      "metadata": {
        "colab": {
          "base_uri": "https://localhost:8080/",
          "height": 367
        },
        "id": "oqkI6JFxdgex",
        "outputId": "0838bced-0016-45ae-dfb8-9d229bcd4a98"
      },
      "source": [
        "plt.figure(1,(10,5))\n",
        "graph=plt.plot(df['Close'])\n",
        "plt.xlabel(\"Year\")\n",
        "plt.ylabel(\"Closing price ($)\")\n",
        "plt.title(\"Stock Graph of S&P BSE SENSEX\")"
      ],
      "execution_count": null,
      "outputs": [
        {
          "output_type": "execute_result",
          "data": {
            "text/plain": [
              "Text(0.5, 1.0, 'Stock Graph of S&P BSE SENSEX')"
            ]
          },
          "metadata": {
            "tags": []
          },
          "execution_count": 16
        },
        {
          "output_type": "display_data",
          "data": {
            "image/png": "[encoded data removed]",
            "text/plain": [
              "<Figure size 720x360 with 1 Axes>"
            ]
          },
          "metadata": {
            "tags": [],
            "needs_background": "light"
          }
        }
      ]
    },
    {
      "cell_type": "markdown",
      "metadata": {
        "id": "Dd2NxLC2qVuF"
      },
      "source": [
        "## Data Preprocessing"
      ]
    },
    {
      "cell_type": "code",
      "metadata": {
        "colab": {
          "base_uri": "https://localhost:8080/"
        },
        "id": "nu-uWXokd5vO",
        "outputId": "566d53f0-5935-4e64-beba-da0e9c494a46"
      },
      "source": [
        "data=df.filter(['Close'])\n",
        "df_new=data.values\n",
        "df_new"
      ],
      "execution_count": null,
      "outputs": [
        {
          "output_type": "execute_result",
          "data": {
            "text/plain": [
              "array([[20561.05078125],\n",
              "       [20498.72070312],\n",
              "       [20301.09960938],\n",
              "       ...,\n",
              "       [52653.0703125 ],\n",
              "       [52586.83984375],\n",
              "       [52950.62890625]])"
            ]
          },
          "metadata": {
            "tags": []
          },
          "execution_count": 18
        }
      ]
    },
    {
      "cell_type": "code",
      "metadata": {
        "id": "A8WW8roEgiPH"
      },
      "source": [
        " from sklearn.preprocessing import MinMaxScaler"
      ],
      "execution_count": null,
      "outputs": []
    },
    {
      "cell_type": "code",
      "metadata": {
        "colab": {
          "base_uri": "https://localhost:8080/"
        },
        "id": "_nOiyKvl3YQi",
        "outputId": "985e9134-5ee1-4c9b-c940-9fbca538c6a0"
      },
      "source": [
        "scaler=MinMaxScaler(feature_range=(0,1),copy=True)\n",
        "scaled_data=scaler.fit_transform(df_new)\n",
        "scaled_data"
      ],
      "execution_count": null,
      "outputs": [
        {
          "output_type": "execute_result",
          "data": {
            "text/plain": [
              "array([[0.14179663],\n",
              "       [0.14015566],\n",
              "       [0.13495288],\n",
              "       ...,\n",
              "       [0.98668428],\n",
              "       [0.98494063],\n",
              "       [0.99451812]])"
            ]
          },
          "metadata": {
            "tags": []
          },
          "execution_count": 20
        }
      ]
    },
    {
      "cell_type": "markdown",
      "metadata": {
        "id": "Zi5SiwBtqdNR"
      },
      "source": [
        "## Dividing dataset into train and test data"
      ]
    },
    {
      "cell_type": "code",
      "metadata": {
        "colab": {
          "base_uri": "https://localhost:8080/"
        },
        "id": "_QUzrj1xkGXw",
        "outputId": "c910247a-cb20-4eb5-d416-7512e93e9aef"
      },
      "source": [
        "train_len=math.ceil(len(df_new)*0.8)\n",
        "test_len=len(data)-train_len\n",
        "print(\"train_len=\",train_len)\n",
        "print(\"test_len=\",test_len)"
      ],
      "execution_count": null,
      "outputs": [
        {
          "output_type": "stream",
          "text": [
            "train_len= 2075\n",
            "test_len= 518\n"
          ],
          "name": "stdout"
        }
      ]
    },
    {
      "cell_type": "code",
      "metadata": {
        "id": "-ILbCFB03gQ7"
      },
      "source": [
        "train_data = scaled_data[0:train_len,:] "
      ],
      "execution_count": null,
      "outputs": []
    },
    {
      "cell_type": "code",
      "metadata": {
        "colab": {
          "base_uri": "https://localhost:8080/"
        },
        "id": "1gWtFDVnknc8",
        "outputId": "c0d13fad-fa1b-4deb-d803-076f4c2b6562"
      },
      "source": [
        "train_data.shape"
      ],
      "execution_count": null,
      "outputs": [
        {
          "output_type": "execute_result",
          "data": {
            "text/plain": [
              "(2075, 1)"
            ]
          },
          "metadata": {
            "tags": []
          },
          "execution_count": 24
        }
      ]
    },
    {
      "cell_type": "code",
      "metadata": {
        "id": "4fYtG2QMkQS7"
      },
      "source": [
        "test_data=scaled_data[train_len-60:,:]"
      ],
      "execution_count": null,
      "outputs": []
    },
    {
      "cell_type": "code",
      "metadata": {
        "colab": {
          "base_uri": "https://localhost:8080/"
        },
        "id": "dVv3GP98kroG",
        "outputId": "c1786d34-72c6-4d8b-f55e-666436955b10"
      },
      "source": [
        "test_data.shape"
      ],
      "execution_count": null,
      "outputs": [
        {
          "output_type": "execute_result",
          "data": {
            "text/plain": [
              "(578, 1)"
            ]
          },
          "metadata": {
            "tags": []
          },
          "execution_count": 25
        }
      ]
    },
    {
      "cell_type": "markdown",
      "metadata": {
        "id": "TmEStNDPq9Vv"
      },
      "source": [
        "## Training model for 60 days and predicting for 61st day"
      ]
    },
    {
      "cell_type": "code",
      "metadata": {
        "colab": {
          "base_uri": "https://localhost:8080/"
        },
        "id": "RAM9NR1u5lLy",
        "outputId": "d67397ac-ed7d-42d1-f7b0-8f0f66b775ee"
      },
      "source": [
        "X_train = []\n",
        "y_train = []\n",
        "for i in range(60,len(train_data)):                 \n",
        "  X_train.append(train_data[i-60:i,0])\n",
        "  y_train.append(train_data[i,0])\n",
        "  if i<=60:\n",
        "    print(\"X_train\",X_train)\n",
        "    print(\"y_train\",y_train)\n",
        "    print()"
      ],
      "execution_count": null,
      "outputs": [
        {
          "output_type": "stream",
          "text": [
            "X_train [array([0.14179663, 0.14015566, 0.13495288, 0.13188949, 0.11891211,\n",
            "       0.10659918, 0.10586784, 0.11476005, 0.10551191, 0.09702458,\n",
            "       0.09759878, 0.10312222, 0.10012803, 0.10192403, 0.10089702,\n",
            "       0.10468153, 0.09989448, 0.09239076, 0.08479649, 0.0830007 ,\n",
            "       0.07495676, 0.07675749, 0.08620077, 0.07458634, 0.07535085,\n",
            "       0.06846659, 0.06365059, 0.06023517, 0.06722685, 0.07969507,\n",
            "       0.08158012, 0.08229357, 0.08771483, 0.07994044, 0.08591118,\n",
            "       0.08216878, 0.07906666, 0.06469421, 0.06649761, 0.06972242,\n",
            "       0.08612678, 0.08726568, 0.08717852, 0.080234  , 0.08594645,\n",
            "       0.08674413, 0.08300651, 0.07895503, 0.08594198, 0.07878524,\n",
            "       0.08381499, 0.07831737, 0.0711812 , 0.07013444, 0.07406375,\n",
            "       0.07979934, 0.08360571, 0.09584516, 0.09920185, 0.10387912])]\n",
            "y_train [0.10833836263646929]\n",
            "\n"
          ],
          "name": "stdout"
        }
      ]
    },
    {
      "cell_type": "code",
      "metadata": {
        "colab": {
          "base_uri": "https://localhost:8080/"
        },
        "id": "SqOBNhy7AU70",
        "outputId": "6aa14a33-00e8-4e8c-a88c-e815b8c49f43"
      },
      "source": [
        "type(X_train) "
      ],
      "execution_count": null,
      "outputs": [
        {
          "output_type": "execute_result",
          "data": {
            "text/plain": [
              "list"
            ]
          },
          "metadata": {
            "tags": []
          },
          "execution_count": 27
        }
      ]
    },
    {
      "cell_type": "code",
      "metadata": {
        "colab": {
          "base_uri": "https://localhost:8080/"
        },
        "id": "wew5YGUik7z9",
        "outputId": "c048bd14-6a8a-45f0-8360-460d60ec71fe"
      },
      "source": [
        "type(y_train)"
      ],
      "execution_count": null,
      "outputs": [
        {
          "output_type": "execute_result",
          "data": {
            "text/plain": [
              "list"
            ]
          },
          "metadata": {
            "tags": []
          },
          "execution_count": 28
        }
      ]
    },
    {
      "cell_type": "code",
      "metadata": {
        "colab": {
          "base_uri": "https://localhost:8080/"
        },
        "id": "wqOmZeAjQFnM",
        "outputId": "4b13868a-7829-4006-9670-e3be304b1f41"
      },
      "source": [
        "X_train = np.array(X_train)     \n",
        "y_train = np.array(y_train)\n",
        "X_train=np.reshape(X_train,(X_train.shape[0],X_train.shape[1],1))\n",
        "X_train.shape"
      ],
      "execution_count": null,
      "outputs": [
        {
          "output_type": "execute_result",
          "data": {
            "text/plain": [
              "(2015, 60, 1)"
            ]
          },
          "metadata": {
            "tags": []
          },
          "execution_count": 29
        }
      ]
    },
    {
      "cell_type": "code",
      "metadata": {
        "id": "7sH_0fkUlKh2"
      },
      "source": [
        "X_test=[]\n",
        "y_test=df_new[train_len:,:]\n",
        "for i in range(60,len(test_data)):\n",
        "  X_test.append(test_data[i-60:i,0])"
      ],
      "execution_count": null,
      "outputs": []
    },
    {
      "cell_type": "code",
      "metadata": {
        "colab": {
          "base_uri": "https://localhost:8080/"
        },
        "id": "41Q4EuEPle3V",
        "outputId": "9a0b7971-f814-49d6-a2d0-99edaddf8320"
      },
      "source": [
        "type(X_test)"
      ],
      "execution_count": null,
      "outputs": [
        {
          "output_type": "execute_result",
          "data": {
            "text/plain": [
              "list"
            ]
          },
          "metadata": {
            "tags": []
          },
          "execution_count": 33
        }
      ]
    },
    {
      "cell_type": "code",
      "metadata": {
        "colab": {
          "base_uri": "https://localhost:8080/"
        },
        "id": "ctjqaToAldY1",
        "outputId": "be974c04-932c-436e-955c-f4ce580ea42b"
      },
      "source": [
        "type(y_test)"
      ],
      "execution_count": null,
      "outputs": [
        {
          "output_type": "execute_result",
          "data": {
            "text/plain": [
              "numpy.ndarray"
            ]
          },
          "metadata": {
            "tags": []
          },
          "execution_count": 32
        }
      ]
    },
    {
      "cell_type": "code",
      "metadata": {
        "colab": {
          "base_uri": "https://localhost:8080/"
        },
        "id": "K9ivZmcjlkgB",
        "outputId": "cc5958ba-7981-4d87-c00b-2dc451738440"
      },
      "source": [
        "X_test=np.array(X_test)\n",
        "X_test=np.reshape(X_test,(X_test.shape[0],X_test.shape[1],1))\n",
        "X_test.shape"
      ],
      "execution_count": null,
      "outputs": [
        {
          "output_type": "execute_result",
          "data": {
            "text/plain": [
              "(518, 60, 1)"
            ]
          },
          "metadata": {
            "tags": []
          },
          "execution_count": 34
        }
      ]
    },
    {
      "cell_type": "markdown",
      "metadata": {
        "id": "nWxjYyPXrV0y"
      },
      "source": [
        "## LSTM Model "
      ]
    },
    {
      "cell_type": "code",
      "metadata": {
        "id": "vA2srjLTVsYz"
      },
      "source": [
        "model=Sequential()\n",
        "model.add(LSTM(50, return_sequences=True, input_shape=(X_train.shape[1],1)))\n",
        "model.add(LSTM(50, return_sequences=False))\n",
        "model.add(Dense(25))\n",
        "model.add(Dense(1))"
      ],
      "execution_count": null,
      "outputs": []
    },
    {
      "cell_type": "code",
      "metadata": {
        "colab": {
          "base_uri": "https://localhost:8080/"
        },
        "id": "K9jvN-c9re6P",
        "outputId": "5997363b-fa0a-4ea3-aae6-2496adc0b01b"
      },
      "source": [
        "model.summary()"
      ],
      "execution_count": null,
      "outputs": [
        {
          "output_type": "stream",
          "text": [
            "Model: \"sequential\"\n",
            "_________________________________________________________________\n",
            "Layer (type)                 Output Shape              Param #   \n",
            "=================================================================\n",
            "lstm (LSTM)                  (None, 60, 50)            10400     \n",
            "_________________________________________________________________\n",
            "lstm_1 (LSTM)                (None, 50)                20200     \n",
            "_________________________________________________________________\n",
            "dense (Dense)                (None, 25)                1275      \n",
            "_________________________________________________________________\n",
            "dense_1 (Dense)              (None, 1)                 26        \n",
            "=================================================================\n",
            "Total params: 31,901\n",
            "Trainable params: 31,901\n",
            "Non-trainable params: 0\n",
            "_________________________________________________________________\n"
          ],
          "name": "stdout"
        }
      ]
    },
    {
      "cell_type": "code",
      "metadata": {
        "id": "8w9zuYkaVxBh"
      },
      "source": [
        "model.compile(optimizer='adam',loss='mean_squared_error')"
      ],
      "execution_count": null,
      "outputs": []
    },
    {
      "cell_type": "code",
      "metadata": {
        "colab": {
          "base_uri": "https://localhost:8080/"
        },
        "id": "fknj_ucNV3_W",
        "outputId": "98e092c2-6e0b-4f92-ca22-08473ed4b60e"
      },
      "source": [
        "model.fit(X_train,y_train,batch_size=1,epochs=5)"
      ],
      "execution_count": null,
      "outputs": [
        {
          "output_type": "stream",
          "text": [
            "Epoch 1/5\n",
            "2015/2015 [==============================] - 34s 5ms/step - loss: 0.0019\n",
            "Epoch 2/5\n",
            "2015/2015 [==============================] - 11s 5ms/step - loss: 3.1230e-04\n",
            "Epoch 3/5\n",
            "2015/2015 [==============================] - 11s 5ms/step - loss: 1.8857e-04\n",
            "Epoch 4/5\n",
            "2015/2015 [==============================] - 11s 5ms/step - loss: 1.9348e-04\n",
            "Epoch 5/5\n",
            "2015/2015 [==============================] - 11s 6ms/step - loss: 1.6379e-04\n"
          ],
          "name": "stdout"
        },
        {
          "output_type": "execute_result",
          "data": {
            "text/plain": [
              "<keras.callbacks.History at 0x7f107a85f210>"
            ]
          },
          "metadata": {
            "tags": []
          },
          "execution_count": 38
        }
      ]
    },
    {
      "cell_type": "markdown",
      "metadata": {
        "id": "DYR9iynvrlSY"
      },
      "source": [
        "## Predictions"
      ]
    },
    {
      "cell_type": "code",
      "metadata": {
        "id": "EeGi64LF6LOl"
      },
      "source": [
        "y_pred=model.predict(X_test)\n",
        "y_pred=scaler.inverse_transform(y_pred)"
      ],
      "execution_count": null,
      "outputs": []
    },
    {
      "cell_type": "code",
      "metadata": {
        "colab": {
          "base_uri": "https://localhost:8080/",
          "height": 334
        },
        "id": "krQog_m_a332",
        "outputId": "7b488db8-429b-4786-f29c-731fc117aa62"
      },
      "source": [
        "train=data[:train_len]\n",
        "validation=data[train_len:]\n",
        "validation['Predictions']=y_pred\n",
        "plt.figure(figsize=(15,5))\n",
        "plt.xlabel(\"DATE\")\n",
        "plt.ylabel(\"Closing Price($)\")\n",
        "plt.plot(df['Close'])\n",
        "plt.plot(validation[['Close','Predictions']])\n",
        "plt.legend(['Train','Valid','Predictions'])\n",
        "plt.show()"
      ],
      "execution_count": null,
      "outputs": [
        {
          "output_type": "display_data",
          "data": {
            "image/png": "[encoded data removed]",
            "text/plain": [
              "<Figure size 1080x360 with 1 Axes>"
            ]
          },
          "metadata": {
            "tags": [],
            "needs_background": "light"
          }
        }
      ]
    },
    {
      "cell_type": "markdown",
      "metadata": {
        "id": "MTOXEVprrpWe"
      },
      "source": [
        "# Testing our model to find closing price for \"4th August 2021\""
      ]
    },
    {
      "cell_type": "code",
      "metadata": {
        "colab": {
          "base_uri": "https://localhost:8080/"
        },
        "id": "wdIeuY58bOiG",
        "outputId": "c6fa89f7-6d0e-4bb1-ced9-238a6112b540"
      },
      "source": [
        "last_60_days=data[-60:].values\n",
        "last_60_days_scaled=scaler.transform(last_60_days)\n",
        "X_test=[]\n",
        "X_test.append(last_60_days_scaled)\n",
        "X_test=np.array(X_test)\n",
        "X_test=np.reshape(X_test,(X_test.shape[0],X_test.shape[1],1))\n",
        "pred_price=model.predict(X_test)\n",
        "pred_price=scaler.inverse_transform(pred_price)\n",
        "print(pred_price)"
      ],
      "execution_count": null,
      "outputs": [
        {
          "output_type": "stream",
          "text": [
            "[[53578.56]]\n"
          ],
          "name": "stdout"
        }
      ]
    },
    {
      "cell_type": "code",
      "metadata": {
        "colab": {
          "base_uri": "https://localhost:8080/"
        },
        "id": "Orvd2Pdu30OW",
        "outputId": "48a63d1a-179e-492c-de3c-e70153aed7f1"
      },
      "source": [
        "from pandas_datareader import data as pdr\n",
        "import yfinance as yf\n",
        "\n",
        "yf.pdr_override()\n",
        "\n",
        "sample = pdr.get_data_yahoo(\"%5EBSESN\", start=\"2021-08-04\", end=\"2021-08-05\")"
      ],
      "execution_count": null,
      "outputs": [
        {
          "output_type": "stream",
          "text": [
            "\r[*********************100%***********************]  1 of 1 completed\n"
          ],
          "name": "stdout"
        }
      ]
    },
    {
      "cell_type": "code",
      "metadata": {
        "colab": {
          "base_uri": "https://localhost:8080/",
          "height": 110
        },
        "id": "DpQ8yZp45wjF",
        "outputId": "f86203cc-3017-4bb4-bf56-2fdf4236bd89"
      },
      "source": [
        "sample"
      ],
      "execution_count": null,
      "outputs": [
        {
          "output_type": "execute_result",
          "data": {
            "text/html": [
              "<div>\n",
              "<style scoped>\n",
              "    .dataframe tbody tr th:only-of-type {\n",
              "        vertical-align: middle;\n",
              "    }\n",
              "\n",
              "    .dataframe tbody tr th {\n",
              "        vertical-align: top;\n",
              "    }\n",
              "\n",
              "    .dataframe thead th {\n",
              "        text-align: right;\n",
              "    }\n",
              "</style>\n",
              "<table border=\"1\" class=\"dataframe\">\n",
              "  <thead>\n",
              "    <tr style=\"text-align: right;\">\n",
              "      <th></th>\n",
              "      <th>Open</th>\n",
              "      <th>High</th>\n",
              "      <th>Low</th>\n",
              "      <th>Close</th>\n",
              "      <th>Adj Close</th>\n",
              "      <th>Volume</th>\n",
              "    </tr>\n",
              "    <tr>\n",
              "      <th>Date</th>\n",
              "      <th></th>\n",
              "      <th></th>\n",
              "      <th></th>\n",
              "      <th></th>\n",
              "      <th></th>\n",
              "      <th></th>\n",
              "    </tr>\n",
              "  </thead>\n",
              "  <tbody>\n",
              "    <tr>\n",
              "      <th>2021-08-04</th>\n",
              "      <td>54071.21875</td>\n",
              "      <td>54465.910156</td>\n",
              "      <td>54034.308594</td>\n",
              "      <td>54369.769531</td>\n",
              "      <td>54369.769531</td>\n",
              "      <td>14600</td>\n",
              "    </tr>\n",
              "  </tbody>\n",
              "</table>\n",
              "</div>"
            ],
            "text/plain": [
              "                   Open          High  ...     Adj Close  Volume\n",
              "Date                                   ...                      \n",
              "2021-08-04  54071.21875  54465.910156  ...  54369.769531   14600\n",
              "\n",
              "[1 rows x 6 columns]"
            ]
          },
          "metadata": {
            "tags": []
          },
          "execution_count": 44
        }
      ]
    },
    {
      "cell_type": "markdown",
      "metadata": {
        "id": "OI10pmrar7zC"
      },
      "source": [
        "# Sentiment Analysis "
      ]
    },
    {
      "cell_type": "markdown",
      "metadata": {
        "id": "LXTsHPqVsCjM"
      },
      "source": [
        "## Gathering dataset"
      ]
    },
    {
      "cell_type": "code",
      "metadata": {
        "id": "4YDm1B5Z4PyG"
      },
      "source": [
        "df_sentiment = pd.read_csv(\"/content/drive/MyDrive/india-news-headlines.csv\")"
      ],
      "execution_count": null,
      "outputs": []
    },
    {
      "cell_type": "code",
      "metadata": {
        "colab": {
          "base_uri": "https://localhost:8080/",
          "height": 203
        },
        "id": "BfjLKsgFWmE1",
        "outputId": "7fb486d2-cdf6-440f-9aba-c3c33a6e6b91"
      },
      "source": [
        "df_sentiment.head()"
      ],
      "execution_count": null,
      "outputs": [
        {
          "output_type": "execute_result",
          "data": {
            "text/html": [
              "<div>\n",
              "<style scoped>\n",
              "    .dataframe tbody tr th:only-of-type {\n",
              "        vertical-align: middle;\n",
              "    }\n",
              "\n",
              "    .dataframe tbody tr th {\n",
              "        vertical-align: top;\n",
              "    }\n",
              "\n",
              "    .dataframe thead th {\n",
              "        text-align: right;\n",
              "    }\n",
              "</style>\n",
              "<table border=\"1\" class=\"dataframe\">\n",
              "  <thead>\n",
              "    <tr style=\"text-align: right;\">\n",
              "      <th></th>\n",
              "      <th>publish_date</th>\n",
              "      <th>headline_category</th>\n",
              "      <th>headline_text</th>\n",
              "    </tr>\n",
              "  </thead>\n",
              "  <tbody>\n",
              "    <tr>\n",
              "      <th>0</th>\n",
              "      <td>20010102</td>\n",
              "      <td>unknown</td>\n",
              "      <td>Status quo will not be disturbed at Ayodhya; s...</td>\n",
              "    </tr>\n",
              "    <tr>\n",
              "      <th>1</th>\n",
              "      <td>20010102</td>\n",
              "      <td>unknown</td>\n",
              "      <td>Fissures in Hurriyat over Pak visit</td>\n",
              "    </tr>\n",
              "    <tr>\n",
              "      <th>2</th>\n",
              "      <td>20010102</td>\n",
              "      <td>unknown</td>\n",
              "      <td>America's unwanted heading for India?</td>\n",
              "    </tr>\n",
              "    <tr>\n",
              "      <th>3</th>\n",
              "      <td>20010102</td>\n",
              "      <td>unknown</td>\n",
              "      <td>For bigwigs; it is destination Goa</td>\n",
              "    </tr>\n",
              "    <tr>\n",
              "      <th>4</th>\n",
              "      <td>20010102</td>\n",
              "      <td>unknown</td>\n",
              "      <td>Extra buses to clear tourist traffic</td>\n",
              "    </tr>\n",
              "  </tbody>\n",
              "</table>\n",
              "</div>"
            ],
            "text/plain": [
              "   publish_date  ...                                      headline_text\n",
              "0      20010102  ...  Status quo will not be disturbed at Ayodhya; s...\n",
              "1      20010102  ...                Fissures in Hurriyat over Pak visit\n",
              "2      20010102  ...              America's unwanted heading for India?\n",
              "3      20010102  ...                 For bigwigs; it is destination Goa\n",
              "4      20010102  ...               Extra buses to clear tourist traffic\n",
              "\n",
              "[5 rows x 3 columns]"
            ]
          },
          "metadata": {
            "tags": []
          },
          "execution_count": 46
        }
      ]
    },
    {
      "cell_type": "markdown",
      "metadata": {
        "id": "5j-55bsvsH1t"
      },
      "source": [
        "## Importing necessary modules"
      ]
    },
    {
      "cell_type": "code",
      "metadata": {
        "colab": {
          "base_uri": "https://localhost:8080/"
        },
        "id": "j021oo_0sDnQ",
        "outputId": "8625cae0-bb60-4fe8-9d4d-01c9c31f732f"
      },
      "source": [
        "from nltk.sentiment.vader import SentimentIntensityAnalyzer\n",
        "import nltk\n",
        "nltk.downloader.download('vader_lexicon')"
      ],
      "execution_count": null,
      "outputs": [
        {
          "output_type": "stream",
          "text": [
            "[nltk_data] Downloading package vader_lexicon to /root/nltk_data...\n",
            "[nltk_data]   Package vader_lexicon is already up-to-date!\n"
          ],
          "name": "stdout"
        },
        {
          "output_type": "execute_result",
          "data": {
            "text/plain": [
              "True"
            ]
          },
          "metadata": {
            "tags": []
          },
          "execution_count": 47
        }
      ]
    },
    {
      "cell_type": "markdown",
      "metadata": {
        "id": "QO0tPoDmsMzN"
      },
      "source": [
        "## Predicting if a news headline is positive , negative or neutral"
      ]
    },
    {
      "cell_type": "code",
      "metadata": {
        "colab": {
          "base_uri": "https://localhost:8080/",
          "height": 203
        },
        "id": "kV_9XsoWYkk6",
        "outputId": "f14fafec-76ce-4acb-d18d-7466b2d76594"
      },
      "source": [
        "vader = SentimentIntensityAnalyzer()\n",
        "\n",
        "sentiment = df_sentiment['headline_text'].apply(vader.polarity_scores).tolist()\n",
        "sentiment_score = pd.DataFrame(sentiment)\n",
        "\n",
        "df_sentiment = df_sentiment.join(sentiment_score, rsuffix='_right')\n",
        "\n",
        "\n",
        "df_sentiment.head()"
      ],
      "execution_count": null,
      "outputs": [
        {
          "output_type": "execute_result",
          "data": {
            "text/html": [
              "<div>\n",
              "<style scoped>\n",
              "    .dataframe tbody tr th:only-of-type {\n",
              "        vertical-align: middle;\n",
              "    }\n",
              "\n",
              "    .dataframe tbody tr th {\n",
              "        vertical-align: top;\n",
              "    }\n",
              "\n",
              "    .dataframe thead th {\n",
              "        text-align: right;\n",
              "    }\n",
              "</style>\n",
              "<table border=\"1\" class=\"dataframe\">\n",
              "  <thead>\n",
              "    <tr style=\"text-align: right;\">\n",
              "      <th></th>\n",
              "      <th>publish_date</th>\n",
              "      <th>headline_category</th>\n",
              "      <th>headline_text</th>\n",
              "      <th>neg</th>\n",
              "      <th>neu</th>\n",
              "      <th>pos</th>\n",
              "      <th>compound</th>\n",
              "    </tr>\n",
              "  </thead>\n",
              "  <tbody>\n",
              "    <tr>\n",
              "      <th>0</th>\n",
              "      <td>20010102</td>\n",
              "      <td>unknown</td>\n",
              "      <td>Status quo will not be disturbed at Ayodhya; s...</td>\n",
              "      <td>0.000</td>\n",
              "      <td>0.805</td>\n",
              "      <td>0.195</td>\n",
              "      <td>0.2924</td>\n",
              "    </tr>\n",
              "    <tr>\n",
              "      <th>1</th>\n",
              "      <td>20010102</td>\n",
              "      <td>unknown</td>\n",
              "      <td>Fissures in Hurriyat over Pak visit</td>\n",
              "      <td>0.000</td>\n",
              "      <td>1.000</td>\n",
              "      <td>0.000</td>\n",
              "      <td>0.0000</td>\n",
              "    </tr>\n",
              "    <tr>\n",
              "      <th>2</th>\n",
              "      <td>20010102</td>\n",
              "      <td>unknown</td>\n",
              "      <td>America's unwanted heading for India?</td>\n",
              "      <td>0.322</td>\n",
              "      <td>0.678</td>\n",
              "      <td>0.000</td>\n",
              "      <td>-0.2263</td>\n",
              "    </tr>\n",
              "    <tr>\n",
              "      <th>3</th>\n",
              "      <td>20010102</td>\n",
              "      <td>unknown</td>\n",
              "      <td>For bigwigs; it is destination Goa</td>\n",
              "      <td>0.000</td>\n",
              "      <td>1.000</td>\n",
              "      <td>0.000</td>\n",
              "      <td>0.0000</td>\n",
              "    </tr>\n",
              "    <tr>\n",
              "      <th>4</th>\n",
              "      <td>20010102</td>\n",
              "      <td>unknown</td>\n",
              "      <td>Extra buses to clear tourist traffic</td>\n",
              "      <td>0.000</td>\n",
              "      <td>0.658</td>\n",
              "      <td>0.342</td>\n",
              "      <td>0.3818</td>\n",
              "    </tr>\n",
              "  </tbody>\n",
              "</table>\n",
              "</div>"
            ],
            "text/plain": [
              "   publish_date headline_category  ...    pos  compound\n",
              "0      20010102           unknown  ...  0.195    0.2924\n",
              "1      20010102           unknown  ...  0.000    0.0000\n",
              "2      20010102           unknown  ...  0.000   -0.2263\n",
              "3      20010102           unknown  ...  0.000    0.0000\n",
              "4      20010102           unknown  ...  0.342    0.3818\n",
              "\n",
              "[5 rows x 7 columns]"
            ]
          },
          "metadata": {
            "tags": []
          },
          "execution_count": 48
        }
      ]
    }
  ]
}